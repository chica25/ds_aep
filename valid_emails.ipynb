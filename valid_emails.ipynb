{
 "cells": [
  {
   "cell_type": "markdown",
   "metadata": {},
   "source": [
    "# Valid Email\n",
    "\n",
    "Write a solution to find the users who have valid emails.\n",
    "\n",
    "A valid e-mail has a prefix name and a domain where:\n",
    "\n",
    "* The prefix name is a string that may contain letters (upper or lower case), digits, underscore '_', period '.', and/or dash '-'. The prefix name must start with a letter.\n",
    "* The domain is '@leetcode.com'.\n",
    "* Return the result table in any order.\n",
    "\n",
    "The result format is in the following example.\n",
    "\n",
    "**Example 1:**\n",
    "```\n",
    "Input: \n",
    "Users table:\n",
    "+---------+-----------+-------------------------+\n",
    "| user_id | name      | mail                    |\n",
    "+---------+-----------+-------------------------+\n",
    "| 1       | Winston   | winston@leetcode.com    |\n",
    "| 2       | Jonathan  | jonathanisgreat         |\n",
    "| 3       | Annabelle | bella-@leetcode.com     |\n",
    "| 4       | Sally     | sally.come@leetcode.com |\n",
    "| 5       | Marwan    | quarz#2020@leetcode.com |\n",
    "| 6       | David     | david69@gmail.com       |\n",
    "| 7       | Shapiro   | .shapo@leetcode.com     |\n",
    "+---------+-----------+-------------------------+\n",
    "\n",
    "Output: \n",
    "+---------+-----------+-------------------------+\n",
    "| user_id | name      | mail                    |\n",
    "+---------+-----------+-------------------------+\n",
    "| 1       | Winston   | winston@leetcode.com    |\n",
    "| 3       | Annabelle | bella-@leetcode.com     |\n",
    "| 4       | Sally     | sally.come@leetcode.com |\n",
    "+---------+-----------+-------------------------+\n",
    "```\n",
    "\n",
    "Explanation: \n",
    "The mail of user 2 does not have a domain.\n",
    "The mail of user 5 has the # sign which is not allowed.\n",
    "The mail of user 6 does not have the leetcode domain.\n",
    "The mail of user 7 starts with a period.\n",
    "\n",
    "Once you have implemented your solution, run the code block containing your `valid_emails` function. Be sure that your function [returns](https://www.geeksforgeeks.org/python-return-statement/) a dataframe, and doesn't simply print."
   ]
  },
  {
   "cell_type": "code",
   "execution_count": 8,
   "metadata": {},
   "outputs": [],
   "source": [
    "'''\n",
    "-Regex\n",
    "'''\n",
    "\n",
    "import pandas as pd\n",
    "\n",
    "\n",
    "def valid_emails(users):\n",
    "    #users = users[users['mail'].str.match(r'^[a-zA-Z][A-Za-z0-9._-]*@leetcode\\.com$')]\n",
    "    users = users[users['mail'].str.match(r'^[a-zA-Z][a-zA-Z0-9_.-]*@leetcode[.]com$')]\n",
    "  \n",
    "    return users"
   ]
  },
  {
   "cell_type": "markdown",
   "metadata": {},
   "source": [
    "## Test Block\n",
    "\n",
    "**NOTE: Before running the code block below, please be sure that the function you implemented above runs successfully (i.e. a green check-mark appears when running your code)**\n",
    "\n",
    "Run the following block of code to test your `valid_emails` function. If all cases evaluate to true, your code is functioning correctly!"
   ]
  },
  {
   "cell_type": "code",
   "execution_count": 10,
   "metadata": {},
   "outputs": [
    {
     "ename": "TypeError",
     "evalue": "test1() missing 1 required positional argument: 'result1'",
     "output_type": "error",
     "traceback": [
      "\u001b[0;31m---------------------------------------------------------------------------\u001b[0m",
      "\u001b[0;31mTypeError\u001b[0m                                 Traceback (most recent call last)",
      "Cell \u001b[0;32mIn[10], line 8\u001b[0m\n\u001b[1;32m      5\u001b[0m data \u001b[38;5;241m=\u001b[39m pd\u001b[38;5;241m.\u001b[39mread_csv(\u001b[38;5;124m\"\u001b[39m\u001b[38;5;124mdata/email_data.csv\u001b[39m\u001b[38;5;124m\"\u001b[39m, index_col\u001b[38;5;241m=\u001b[39m\u001b[38;5;124m\"\u001b[39m\u001b[38;5;124muser_id\u001b[39m\u001b[38;5;124m\"\u001b[39m)\n\u001b[1;32m      7\u001b[0m output \u001b[38;5;241m=\u001b[39m valid_emails(data)\n\u001b[0;32m----> 8\u001b[0m result1 \u001b[38;5;241m=\u001b[39m \u001b[43mtest_email\u001b[49m\u001b[38;5;241;43m.\u001b[39;49m\u001b[43mtest1\u001b[49m\u001b[43m(\u001b[49m\u001b[43m)\u001b[49m\n\u001b[1;32m     10\u001b[0m \u001b[38;5;28mprint\u001b[39m(\u001b[38;5;124m\"\u001b[39m\u001b[38;5;124mOutput\u001b[39m\u001b[38;5;130;01m\\n\u001b[39;00m\u001b[38;5;124m:\u001b[39m\u001b[38;5;124m\"\u001b[39m, output)\n\u001b[1;32m     11\u001b[0m \u001b[38;5;28mprint\u001b[39m(\u001b[38;5;124m\"\u001b[39m\u001b[38;5;124mTest case 1:\u001b[39m\u001b[38;5;124m\"\u001b[39m, result1)\n",
      "\u001b[0;31mTypeError\u001b[0m: test1() missing 1 required positional argument: 'result1'"
     ]
    }
   ],
   "source": [
    "from tests import test_email\n",
    "from importlib import reload\n",
    "reload(test_email)\n",
    "\n",
    "data = pd.read_csv(\"data/email_data.csv\", index_col=\"user_id\")\n",
    "\n",
    "output = valid_emails(data)\n",
    "result1 = test_email.test1()\n",
    "\n",
    "print(\"Output\\n:\", output)\n",
    "print(\"Test case 1:\", result1)"
   ]
  }
 ],
 "metadata": {
  "kernelspec": {
   "display_name": "base",
   "language": "python",
   "name": "python3"
  },
  "language_info": {
   "codemirror_mode": {
    "name": "ipython",
    "version": 3
   },
   "file_extension": ".py",
   "mimetype": "text/x-python",
   "name": "python",
   "nbconvert_exporter": "python",
   "pygments_lexer": "ipython3",
   "version": "3.9.18"
  }
 },
 "nbformat": 4,
 "nbformat_minor": 2
}
